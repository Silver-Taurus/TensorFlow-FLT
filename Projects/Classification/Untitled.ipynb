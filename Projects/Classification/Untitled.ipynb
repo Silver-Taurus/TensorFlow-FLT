{
 "cells": [
  {
   "cell_type": "code",
   "execution_count": 15,
   "metadata": {},
   "outputs": [],
   "source": [
    "# Importing libraries\n",
    "\n",
    "from tensorflow.keras import Sequential\n",
    "from tensorflow.keras.layers import Convolution2D, MaxPooling2D, Flatten, Dense, Activation, Dropout\n",
    "from tensorflow.keras.preprocessing.image import ImageDataGenerator, load_img, img_to_array\n",
    "from tensorflow.keras.models import load_model\n",
    "\n",
    "import numpy as np\n",
    "import pandas as pd\n",
    "import matplotlib.pyplot as plt"
   ]
  },
  {
   "cell_type": "code",
   "execution_count": 2,
   "metadata": {},
   "outputs": [],
   "source": [
    "# --------------- Part-1: Building the CNN ---------------\n",
    "\n",
    "# Step-1: Initialising the CNN architecture\n",
    "\n",
    "model = Sequential()"
   ]
  },
  {
   "cell_type": "code",
   "execution_count": 3,
   "metadata": {},
   "outputs": [
    {
     "name": "stdout",
     "output_type": "stream",
     "text": [
      "WARNING:tensorflow:From C:\\Users\\Silver Taurus\\Anaconda3\\lib\\site-packages\\tensorflow\\python\\ops\\resource_variable_ops.py:435: colocate_with (from tensorflow.python.framework.ops) is deprecated and will be removed in a future version.\n",
      "Instructions for updating:\n",
      "Colocations handled automatically by placer.\n"
     ]
    }
   ],
   "source": [
    "# Step-2: Convolution\n",
    "\n",
    "model.add(Convolution2D(filters=62, kernel_size=(3, 3), input_shape=(3,64,64), data_format='channels_first'))\n",
    "model.add(Activation('relu'))"
   ]
  },
  {
   "cell_type": "code",
   "execution_count": 4,
   "metadata": {},
   "outputs": [],
   "source": [
    "# Step-3: Max Pooling\n",
    "\n",
    "model.add(MaxPooling2D(pool_size=2))"
   ]
  },
  {
   "cell_type": "code",
   "execution_count": 5,
   "metadata": {},
   "outputs": [],
   "source": [
    "# Step-4: Adding two Extra layers\n",
    "\n",
    "model.add(Convolution2D(32, (3, 3)))\n",
    "model.add(Activation('relu'))\n",
    "model.add(MaxPooling2D(pool_size=2))\n",
    "model.add(Convolution2D(64, (3, 3)))\n",
    "model.add(Activation('relu'))\n",
    "model.add(MaxPooling2D(pool_size=2))"
   ]
  },
  {
   "cell_type": "code",
   "execution_count": 6,
   "metadata": {},
   "outputs": [],
   "source": [
    "# Step-5: Flattening\n",
    "\n",
    "model.add(Flatten())"
   ]
  },
  {
   "cell_type": "code",
   "execution_count": 7,
   "metadata": {},
   "outputs": [],
   "source": [
    "# Step-6: Full Connections\n",
    "\n",
    "model.add(Dense(units=128))\n",
    "model.add(Activation('relu'))\n",
    "model.add(Dense(units=1))\n",
    "model.add(Activation('sigmoid'))"
   ]
  },
  {
   "cell_type": "code",
   "execution_count": 8,
   "metadata": {},
   "outputs": [],
   "source": [
    "# Step-7: Compiling the CNN\n",
    "model.compile(optimizer='adam', loss='binary_crossentropy', metrics=['accuracy'])"
   ]
  },
  {
   "cell_type": "code",
   "execution_count": 9,
   "metadata": {},
   "outputs": [],
   "source": [
    "# --------------- Part-2: Fitting the CNN to the layers ---------------\n",
    "\n",
    "# Step-1: Making the data structure for both training and test sets\n",
    "train_datagen = ImageDataGenerator(rescale= 1./255,\n",
    "                                   shear_range=0.2,\n",
    "                                   zoom_range= 0.2,\n",
    "                                   horizontal_flip=True,\n",
    "                                   data_format='channels_first')\n",
    "\n",
    "test_datagen = ImageDataGenerator(rescale=1./255, data_format='channels_first')"
   ]
  },
  {
   "cell_type": "code",
   "execution_count": 10,
   "metadata": {},
   "outputs": [
    {
     "name": "stdout",
     "output_type": "stream",
     "text": [
      "Found 8000 images belonging to 2 classes.\n",
      "Found 2000 images belonging to 2 classes.\n"
     ]
    }
   ],
   "source": [
    "# Step-2: Adding the data\n",
    "\n",
    "training_set = train_datagen.flow_from_directory('dataset/training_set',\n",
    "                                                 target_size=(64, 64),\n",
    "                                                 batch_size=32,\n",
    "                                                 class_mode='binary')\n",
    "test_set = train_datagen.flow_from_directory('dataset/test_set',\n",
    "                                             target_size=(64, 64),\n",
    "                                             batch_size=32,\n",
    "                                             class_mode='binary')"
   ]
  },
  {
   "cell_type": "code",
   "execution_count": 12,
   "metadata": {
    "scrolled": true
   },
   "outputs": [
    {
     "name": "stdout",
     "output_type": "stream",
     "text": [
      "WARNING:tensorflow:From C:\\Users\\Silver Taurus\\Anaconda3\\lib\\site-packages\\tensorflow\\python\\ops\\math_ops.py:3066: to_int32 (from tensorflow.python.ops.math_ops) is deprecated and will be removed in a future version.\n",
      "Instructions for updating:\n",
      "Use tf.cast instead.\n",
      "Epoch 1/4\n",
      "63/63 [==============================] - 11s 172ms/step - loss: 0.6944 - acc: 0.5115\n",
      "250/250 [==============================] - 95s 380ms/step - loss: 0.6912 - acc: 0.5216 - val_loss: 0.6944 - val_acc: 0.5115\n",
      "Epoch 2/4\n",
      "63/63 [==============================] - 11s 169ms/step - loss: 0.6413 - acc: 0.6370\n",
      "250/250 [==============================] - 92s 368ms/step - loss: 0.6695 - acc: 0.5930 - val_loss: 0.6413 - val_acc: 0.6370\n",
      "Epoch 3/4\n",
      "63/63 [==============================] - 10s 162ms/step - loss: 0.6169 - acc: 0.6675\n",
      "250/250 [==============================] - 92s 370ms/step - loss: 0.6276 - acc: 0.6475 - val_loss: 0.6169 - val_acc: 0.6675\n",
      "Epoch 4/4\n",
      "63/63 [==============================] - 11s 167ms/step - loss: 0.5513 - acc: 0.7180\n",
      "250/250 [==============================] - 93s 373ms/step - loss: 0.5822 - acc: 0.6976 - val_loss: 0.5513 - val_acc: 0.7180\n"
     ]
    },
    {
     "data": {
      "text/plain": [
       "<tensorflow.python.keras.callbacks.History at 0x2bc88adc898>"
      ]
     },
     "execution_count": 12,
     "metadata": {},
     "output_type": "execute_result"
    }
   ],
   "source": [
    "# Step-3: Fitting the data\n",
    "\n",
    "model.fit_generator(training_set, steps_per_epoch=8000, epochs=4, validation_data=test_set, validation_steps=2000)"
   ]
  },
  {
   "cell_type": "code",
   "execution_count": 13,
   "metadata": {},
   "outputs": [],
   "source": [
    "# Saving the model\n",
    "\n",
    "model.save('dog_cat_cnn_model.h5')"
   ]
  },
  {
   "cell_type": "code",
   "execution_count": 16,
   "metadata": {},
   "outputs": [],
   "source": [
    "# Restoring the model\n",
    "\n",
    "# model = load_model('dog_cat_cnn_model.h5')"
   ]
  },
  {
   "cell_type": "code",
   "execution_count": 17,
   "metadata": {},
   "outputs": [
    {
     "name": "stdout",
     "output_type": "stream",
     "text": [
      "['dogs']\n",
      "['cats']\n"
     ]
    }
   ],
   "source": [
    "# ---------------------- Part-3: Making new predicitons -------------------------------------------\n",
    "\n",
    "test_image = load_img('dataset/single_prediction/cat_or_dog_1.jpg', target_size=(64, 64))\n",
    "test_image = img_to_array(test_image)\n",
    "test_image = test_image.reshape((3, 64, 64))\n",
    "test_image = np.expand_dims(test_image, axis=0)\n",
    "value = model.predict(test_image)\n",
    "result = [res for res, val in training_set.class_indices.items() if val == value]\n",
    "\n",
    "test_image2 = load_img('dataset/single_prediction/cat_or_dog_2.jpg', target_size=(64, 64))\n",
    "test_image2 = img_to_array(test_image2)\n",
    "test_image2 = test_image2.reshape((3, 64, 64))\n",
    "test_image2 = np.expand_dims(test_image2, axis=0)\n",
    "value2 = model.predict(test_image2)\n",
    "result2 = [res for res, val in training_set.class_indices.items() if val == value2]\n",
    "\n",
    "print(result)\n",
    "print(result2)"
   ]
  }
 ],
 "metadata": {
  "kernelspec": {
   "display_name": "Python 3",
   "language": "python",
   "name": "python3"
  },
  "language_info": {
   "codemirror_mode": {
    "name": "ipython",
    "version": 3
   },
   "file_extension": ".py",
   "mimetype": "text/x-python",
   "name": "python",
   "nbconvert_exporter": "python",
   "pygments_lexer": "ipython3",
   "version": "3.7.1"
  }
 },
 "nbformat": 4,
 "nbformat_minor": 2
}

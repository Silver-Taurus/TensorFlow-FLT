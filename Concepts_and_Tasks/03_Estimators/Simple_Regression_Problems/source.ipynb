{
 "cells": [
  {
   "cell_type": "markdown",
   "metadata": {},
   "source": [
    "# Simple Regression Problem"
   ]
  },
  {
   "cell_type": "markdown",
   "metadata": {},
   "source": [
    "### How to create the model?\n",
    "- Read the dataset\n",
    "- Define the features and labels\n",
    "- Encode the dependent variable\n",
    "- Divide the dataset into two parts:\n",
    "    - Training\n",
    "    - Testing\n",
    "- Tensorflow data structure for holding features, labels, etc.\n",
    "- Implement the model\n",
    "- Train the model\n",
    "- Make prediction on the test data <br>\n",
    "\n",
    "(END)"
   ]
  },
  {
   "cell_type": "markdown",
   "metadata": {},
   "source": [
    "### How to increase the efficiency of the Model?\n",
    "- Firstly, we create a model (as done above).\n",
    "- Then, we calculate the loss. (A loss function measures how far apart the current model is from the provided data.)\n",
    "- Then, Update the Variables and repeat the previous step until we converge."
   ]
  },
  {
   "cell_type": "markdown",
   "metadata": {},
   "source": [
    "### Calculating the loss\n",
    "In order to understand how good the model is, we should know the loss/error. Following steps are followed in doing this process:\n",
    "- To evaluate the model on training data, we need a y, i.e., placeholder to provide the desired values.\n",
    "- Now, for evaluating the loss, we will define the loss function.\n",
    "- Then, we will calculate the loss for all data."
   ]
  },
  {
   "cell_type": "markdown",
   "metadata": {},
   "source": [
    "### Reducing the Loss (Optimizer)\n",
    "Optimizer modifies each variable according to the magnitude of the derivative of loss with respect to that variable. Here, we are going to use `Gradient Descent` Optimizer."
   ]
  },
  {
   "cell_type": "markdown",
   "metadata": {},
   "source": [
    "### Steps of Building a Neural Network\n",
    "- Build a Graph\n",
    "- Initiate the Session\n",
    "- Feed Data In and get Output\n",
    "- Afterwards we can add in the cost function in order to train your network to optimize the parameters"
   ]
  },
  {
   "cell_type": "markdown",
   "metadata": {},
   "source": [
    "### Problem-1"
   ]
  },
  {
   "cell_type": "code",
   "execution_count": 1,
   "metadata": {},
   "outputs": [],
   "source": [
    "# Importing the libraries\n",
    "import numpy as np\n",
    "import matplotlib.pyplot as plt\n",
    "import tensorflow as tf"
   ]
  },
  {
   "cell_type": "code",
   "execution_count": 2,
   "metadata": {},
   "outputs": [],
   "source": [
    "# data with linearly-spaced b/w 0 and 10 with the addition of some noise to the data.\n",
    "\n",
    "# uniform -> every value in the range a and b has a likely chance of getting choosen.\n",
    "\n",
    "x_data = np.linspace(0, 10, 10) + np.random.uniform(-1.5, 1.5, 10)"
   ]
  },
  {
   "cell_type": "code",
   "execution_count": 3,
   "metadata": {},
   "outputs": [],
   "source": [
    "# label - linearly spaced.\n",
    "\n",
    "y_label = np.linspace(0, 10, 10) + np.random.uniform(-1.5, 1.5, 10)"
   ]
  },
  {
   "cell_type": "code",
   "execution_count": 4,
   "metadata": {},
   "outputs": [
    {
     "data": {
      "text/plain": [
       "[<matplotlib.lines.Line2D at 0x177810c6828>]"
      ]
     },
     "execution_count": 4,
     "metadata": {},
     "output_type": "execute_result"
    },
    {
     "data": {
      "image/png": "[encoded data removed]",
      "text/plain": [
       "<Figure size 432x288 with 1 Axes>"
      ]
     },
     "metadata": {
      "needs_background": "light"
     },
     "output_type": "display_data"
    }
   ],
   "source": [
    "# Represent the dataset\n",
    "\n",
    "plt.plot(x_data, y_label, '*')"
   ]
  },
  {
   "cell_type": "code",
   "execution_count": 5,
   "metadata": {},
   "outputs": [
    {
     "name": "stdout",
     "output_type": "stream",
     "text": [
      "WARNING:tensorflow:From C:\\Users\\Silver Taurus\\Anaconda3\\lib\\site-packages\\tensorflow\\python\\framework\\op_def_library.py:263: colocate_with (from tensorflow.python.framework.ops) is deprecated and will be removed in a future version.\n",
      "Instructions for updating:\n",
      "Colocations handled automatically by placer.\n"
     ]
    }
   ],
   "source": [
    "# Variable parameters for the model to train\n",
    "\n",
    "m = tf.Variable(np.random.rand())\n",
    "c = tf.Variable(np.random.rand())"
   ]
  },
  {
   "cell_type": "code",
   "execution_count": 6,
   "metadata": {},
   "outputs": [],
   "source": [
    "# Calculating the loss (or cost)\n",
    "\n",
    "error = 0\n",
    "for x, y in zip(x_data, y_label):\n",
    "    y_hat = m * x + c\n",
    "    error += (y - y_hat) ** 2"
   ]
  },
  {
   "cell_type": "code",
   "execution_count": 7,
   "metadata": {},
   "outputs": [],
   "source": [
    "# Optimizing the cost\n",
    "\n",
    "optimizer = tf.train.GradientDescentOptimizer(learning_rate=0.001)\n",
    "optimize = optimizer.minimize(error)"
   ]
  },
  {
   "cell_type": "code",
   "execution_count": 8,
   "metadata": {},
   "outputs": [],
   "source": [
    "# Initialize the Variables\n",
    "init = tf.global_variables_initializer()"
   ]
  },
  {
   "cell_type": "code",
   "execution_count": 9,
   "metadata": {},
   "outputs": [],
   "source": [
    "# Evaluating the model\n",
    "\n",
    "epochs = 10\n",
    "with tf.Session() as sess:\n",
    "    sess.run(init)\n",
    "    for i in range(epochs):\n",
    "        sess.run(optimize)\n",
    "    final_m, final_c = sess.run([m, c])"
   ]
  },
  {
   "cell_type": "code",
   "execution_count": 10,
   "metadata": {},
   "outputs": [
    {
     "name": "stdout",
     "output_type": "stream",
     "text": [
      "0.94055176 0.40669736\n"
     ]
    }
   ],
   "source": [
    "# Visualize the trainable parameters \n",
    "\n",
    "print(final_m, final_c)"
   ]
  },
  {
   "cell_type": "code",
   "execution_count": 11,
   "metadata": {},
   "outputs": [
    {
     "data": {
      "text/plain": [
       "[<matplotlib.lines.Line2D at 0x177815cd3c8>]"
      ]
     },
     "execution_count": 11,
     "metadata": {},
     "output_type": "execute_result"
    },
    {
     "data": {
      "image/png": "[encoded data removed]",
      "text/plain": [
       "<Figure size 432x288 with 1 Axes>"
      ]
     },
     "metadata": {
      "needs_background": "light"
     },
     "output_type": "display_data"
    }
   ],
   "source": [
    "# Visualizing the test set results\n",
    "\n",
    "x_test = np.linspace(-1, 11, 10)\n",
    "y_pred = final_m * x_test + final_c\n",
    "plt.plot(x_test, y_pred, 'r')\n",
    "plt.plot(x_data, y_label, '*')"
   ]
  },
  {
   "cell_type": "markdown",
   "metadata": {},
   "source": [
    "\n",
    "### Problem-2"
   ]
  },
  {
   "cell_type": "code",
   "execution_count": 45,
   "metadata": {},
   "outputs": [],
   "source": [
    "# After importing the libraries define Dataset values\n",
    "\n",
    "X_data = [1,2,3,4]\n",
    "Y_label = [0,-1,-2,-3]"
   ]
  },
  {
   "cell_type": "code",
   "execution_count": 50,
   "metadata": {},
   "outputs": [],
   "source": [
    "# Make the model parameters\n",
    "\n",
    "W = tf.Variable(np.random.randn())\n",
    "b = tf.Variable(np.random.randn())\n",
    "X = tf.placeholder(tf.float32)\n",
    "Y = tf.placeholder(tf.float32)"
   ]
  },
  {
   "cell_type": "code",
   "execution_count": 51,
   "metadata": {},
   "outputs": [
    {
     "data": {
      "text/plain": [
       "[<matplotlib.lines.Line2D at 0x178e6a14080>]"
      ]
     },
     "execution_count": 51,
     "metadata": {},
     "output_type": "execute_result"
    },
    {
     "data": {
      "image/png": "[encoded data removed]",
      "text/plain": [
       "<Figure size 432x288 with 1 Axes>"
      ]
     },
     "metadata": {
      "needs_background": "light"
     },
     "output_type": "display_data"
    }
   ],
   "source": [
    "# Visualize the Dataset\n",
    "\n",
    "plt.plot(X_data, Y_label, '*')"
   ]
  },
  {
   "cell_type": "code",
   "execution_count": 52,
   "metadata": {},
   "outputs": [],
   "source": [
    "# Make the model\n",
    "\n",
    "Y_hat = W*X + b"
   ]
  },
  {
   "cell_type": "code",
   "execution_count": 53,
   "metadata": {},
   "outputs": [],
   "source": [
    "# Initializing the Variables\n",
    "\n",
    "init = tf.global_variables_initializer()"
   ]
  },
  {
   "cell_type": "code",
   "execution_count": 59,
   "metadata": {},
   "outputs": [
    {
     "name": "stdout",
     "output_type": "stream",
     "text": [
      "loss:  0.17928126\n",
      "final_W:  -0.9999991 \tfinal_b:  0.99999744\n"
     ]
    }
   ],
   "source": [
    "# Calculating the loss (or cost) of the model and then Reducing the loss (or cost) - Optimization\n",
    "\n",
    "epcohs = 1000\n",
    "with tf.Session() as sess:\n",
    "    sess.run(init)\n",
    "    \n",
    "    squared_deltas = tf.square(Y_hat - Y)\n",
    "    loss = tf.reduce_sum(squared_deltas)\n",
    "    print('loss: ', sess.run(loss, {X: [1,2,3,4], Y: [0,-1,-2,-3]}))\n",
    "    \n",
    "    optimizer = tf.train.GradientDescentOptimizer(0.01)\n",
    "    train = optimizer.minimize(loss)\n",
    "    for i in range(epcohs):\n",
    "        sess.run(train, {X: X_data, Y: Y_label})\n",
    "        final_W, final_b = sess.run([W, b])\n",
    "    print('final_W: ', final_W, '\\tfinal_b: ', final_b)"
   ]
  },
  {
   "cell_type": "code",
   "execution_count": 60,
   "metadata": {},
   "outputs": [
    {
     "data": {
      "text/plain": [
       "[<matplotlib.lines.Line2D at 0x178e6d1bba8>]"
      ]
     },
     "execution_count": 60,
     "metadata": {},
     "output_type": "execute_result"
    },
    {
     "data": {
      "image/png": "[encoded data removed]",
      "text/plain": [
       "<Figure size 432x288 with 1 Axes>"
      ]
     },
     "metadata": {
      "needs_background": "light"
     },
     "output_type": "display_data"
    }
   ],
   "source": [
    "# Visualizing the test set results\n",
    "\n",
    "X_test = np.linspace(0, 4, 10)\n",
    "Y_pred = final_W * X_test + final_b\n",
    "\n",
    "plt.plot(X_test, Y_pred, 'r')\n",
    "plt.plot(X_data, Y_label, '*')"
   ]
  }
 ],
 "metadata": {
  "kernelspec": {
   "display_name": "Python 3",
   "language": "python",
   "name": "python3"
  },
  "language_info": {
   "codemirror_mode": {
    "name": "ipython",
    "version": 3
   },
   "file_extension": ".py",
   "mimetype": "text/x-python",
   "name": "python",
   "nbconvert_exporter": "python",
   "pygments_lexer": "ipython3",
   "version": "3.7.1"
  }
 },
 "nbformat": 4,
 "nbformat_minor": 2
}
